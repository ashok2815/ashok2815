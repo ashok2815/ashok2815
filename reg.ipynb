{
  "nbformat": 4,
  "nbformat_minor": 0,
  "metadata": {
    "colab": {
      "name": "reg.ipynb",
      "provenance": [],
      "authorship_tag": "ABX9TyOAF9ijS3GKPHst14333VRD",
      "include_colab_link": true
    },
    "kernelspec": {
      "name": "python3",
      "display_name": "Python 3"
    },
    "language_info": {
      "name": "python"
    }
  },
  "cells": [
    {
      "cell_type": "markdown",
      "metadata": {
        "id": "view-in-github",
        "colab_type": "text"
      },
      "source": [
        "<a href=\"https://colab.research.google.com/github/ashok2815/ashok2815/blob/main/reg.ipynb\" target=\"_parent\"><img src=\"https://colab.research.google.com/assets/colab-badge.svg\" alt=\"Open In Colab\"/></a>"
      ]
    },
    {
      "cell_type": "code",
      "execution_count": 1,
      "metadata": {
        "colab": {
          "base_uri": "https://localhost:8080/"
        },
        "id": "nY_nWj9G2reQ",
        "outputId": "e4759de2-c83d-489f-9f44-a3657b113c5b"
      },
      "outputs": [
        {
          "output_type": "stream",
          "name": "stdout",
          "text": [
            "YES! it is match\n"
          ]
        }
      ],
      "source": [
        "#search the string if it starts with srh and ends with willamson\n",
        "import re\n",
        "txt = \"srh caption was kane williamson\"\n",
        "x = re.search(\"^srh.*williamson$\",txt)\n",
        "if x :\n",
        "  print(\"YES! it is match\")\n",
        "else :\n",
        "  print(\"not match\")"
      ]
    },
    {
      "cell_type": "code",
      "source": [
        "#To find the lower case alphabates from a to j\n",
        "import re\n",
        "txt = \"srh caption was kane williamson\"\n",
        "x = re.findall(\"[a-j]\",txt)\n",
        "print(x)"
      ],
      "metadata": {
        "colab": {
          "base_uri": "https://localhost:8080/"
        },
        "id": "XwmcF5905FLh",
        "outputId": "ab7b5734-9e1f-44fc-efce-7be102389b1c"
      },
      "execution_count": 2,
      "outputs": [
        {
          "output_type": "stream",
          "name": "stdout",
          "text": [
            "['h', 'c', 'a', 'i', 'a', 'a', 'e', 'i', 'i', 'a']\n"
          ]
        }
      ]
    },
    {
      "cell_type": "code",
      "source": [
        "#find all digit characters\n",
        "import re\n",
        "txt = \"srh 2nd caption was kane williamson\"\n",
        "x = re.findall(\"\\d\",txt)\n",
        "print(x) "
      ],
      "metadata": {
        "colab": {
          "base_uri": "https://localhost:8080/"
        },
        "id": "IWrNWCMo53V6",
        "outputId": "e232d23f-1b81-4a27-9d0b-d9f92229df21"
      },
      "execution_count": 3,
      "outputs": [
        {
          "output_type": "stream",
          "name": "stdout",
          "text": [
            "['2']\n"
          ]
        }
      ]
    },
    {
      "cell_type": "code",
      "source": [
        "#Search for a sequence that starts with \"he\", followed by two (any) characters, and an \"o\":\n",
        "import re\n",
        "txt = \"hello world\"\n",
        "x = re.findall(\"he..o\", txt)\n",
        "print(x)\n"
      ],
      "metadata": {
        "colab": {
          "base_uri": "https://localhost:8080/"
        },
        "id": "yZXjuTCf7FTO",
        "outputId": "a72a12ee-dd07-486b-eac6-53f3d6fae89a"
      },
      "execution_count": 4,
      "outputs": [
        {
          "output_type": "stream",
          "name": "stdout",
          "text": [
            "['hello']\n"
          ]
        }
      ]
    },
    {
      "cell_type": "code",
      "source": [
        "#Search for a sequence that starts with \"he\", followed by 0 or more  (any) characters, and an \"o\":\n",
        "import re\n",
        "txt = \"hello world\"\n",
        "x = re.findall(\"he.*o\", txt)\n",
        "print(x)\n"
      ],
      "metadata": {
        "colab": {
          "base_uri": "https://localhost:8080/"
        },
        "id": "fZNqD0s57x8i",
        "outputId": "261921c9-52e1-4497-8f39-0563474b5e49"
      },
      "execution_count": 5,
      "outputs": [
        {
          "output_type": "stream",
          "name": "stdout",
          "text": [
            "['hello wo']\n"
          ]
        }
      ]
    },
    {
      "cell_type": "code",
      "source": [
        "#Search for a sequence that starts with \"he\", followed by 1 or more  (any) characters, and an \"o\":\n",
        "import re\n",
        "txt = \"hello planet\"\n",
        "x = re.findall(\"he.+o\", txt)\n",
        "print(x)"
      ],
      "metadata": {
        "colab": {
          "base_uri": "https://localhost:8080/"
        },
        "id": "yrhmzAHn8CtH",
        "outputId": "3b67cd84-7705-437b-e55d-9f80a6b4821d"
      },
      "execution_count": 6,
      "outputs": [
        {
          "output_type": "stream",
          "name": "stdout",
          "text": [
            "['hello']\n"
          ]
        }
      ]
    },
    {
      "cell_type": "code",
      "source": [
        "import re\n",
        "txt = \"srh caption was kane williamson\"\n",
        "x = re.findall(\"on\",txt)\n",
        "print(x)"
      ],
      "metadata": {
        "id": "DjlyCrK79CVC",
        "colab": {
          "base_uri": "https://localhost:8080/"
        },
        "outputId": "722ae192-0c58-4beb-bec4-97bc08749c2c"
      },
      "execution_count": 7,
      "outputs": [
        {
          "output_type": "stream",
          "name": "stdout",
          "text": [
            "['on', 'on']\n"
          ]
        }
      ]
    },
    {
      "cell_type": "code",
      "source": [
        "import re\n",
        "txt =  \"srh caption was kane williamson\"\n",
        "x = re.findall(\"bhuvi\",txt)\n",
        "print(x)\n"
      ],
      "metadata": {
        "colab": {
          "base_uri": "https://localhost:8080/"
        },
        "id": "UpKDSaUaqSI8",
        "outputId": "fa1deb5d-1298-4a79-bd4f-c6e2c8d3507f"
      },
      "execution_count": 8,
      "outputs": [
        {
          "output_type": "stream",
          "name": "stdout",
          "text": [
            "[]\n"
          ]
        }
      ]
    },
    {
      "cell_type": "code",
      "source": [
        "import re\n",
        "txt = \"srh caption was kane williamson\"\n",
        "x = re.search(\"\\s\",txt)\n",
        "print(\"The first white-space character is located in position:\", x.start())\n"
      ],
      "metadata": {
        "colab": {
          "base_uri": "https://localhost:8080/"
        },
        "id": "2LxRdjh1r-5a",
        "outputId": "e0f061c5-8efc-4587-a79a-ebf209da15df"
      },
      "execution_count": 9,
      "outputs": [
        {
          "output_type": "stream",
          "name": "stdout",
          "text": [
            "The first white-space character is located in position: 3\n"
          ]
        }
      ]
    },
    {
      "cell_type": "code",
      "source": [
        "import re\n",
        "txt = \"srh caption was kane williamson\"\n",
        "x = re.search(\"portugal\",txt)\n",
        "print(x)"
      ],
      "metadata": {
        "colab": {
          "base_uri": "https://localhost:8080/"
        },
        "id": "LscDnJzUs6mI",
        "outputId": "d083bed8-5f79-49f3-fc25-41b21d85af87"
      },
      "execution_count": 10,
      "outputs": [
        {
          "output_type": "stream",
          "name": "stdout",
          "text": [
            "None\n"
          ]
        }
      ]
    },
    {
      "cell_type": "code",
      "source": [
        "import re\n",
        "txt = \"srh caption was kane williamson\"\n",
        "x = re.split(\"\\s\",txt)\n",
        "print(x)"
      ],
      "metadata": {
        "colab": {
          "base_uri": "https://localhost:8080/"
        },
        "id": "PuYSFLA6tIv3",
        "outputId": "47cd1e24-3a82-4735-dc56-8b160e277f4d"
      },
      "execution_count": 11,
      "outputs": [
        {
          "output_type": "stream",
          "name": "stdout",
          "text": [
            "['srh', 'caption', 'was', 'kane', 'williamson']\n"
          ]
        }
      ]
    },
    {
      "cell_type": "code",
      "source": [
        "import re\n",
        "txt = \"srh caption was kane williamson\"\n",
        "x = re.split(\"\\s\",txt,1)\n",
        "print(x)"
      ],
      "metadata": {
        "colab": {
          "base_uri": "https://localhost:8080/"
        },
        "id": "1PJv7-eutoll",
        "outputId": "47da3086-a74c-43d9-e041-566a9ea05c8b"
      },
      "execution_count": 12,
      "outputs": [
        {
          "output_type": "stream",
          "name": "stdout",
          "text": [
            "['srh', 'caption was kane williamson']\n"
          ]
        }
      ]
    },
    {
      "cell_type": "code",
      "source": [
        "import re\n",
        "txt = \"srh caption was kane williamson\"\n",
        "x = re.sub(\"\\s\",\"9\",txt)\n",
        "print(x)"
      ],
      "metadata": {
        "colab": {
          "base_uri": "https://localhost:8080/"
        },
        "id": "VNy--DCFuIcq",
        "outputId": "a1702978-44b7-4968-fb34-8d2f3ad9e8f1"
      },
      "execution_count": 13,
      "outputs": [
        {
          "output_type": "stream",
          "name": "stdout",
          "text": [
            "srh9caption9was9kane9williamson\n"
          ]
        }
      ]
    },
    {
      "cell_type": "code",
      "source": [
        "import re\n",
        "txt = \"srh caption was kane williamson\"\n",
        "x = re.sub(\"\\s\",\"9\",txt,2)\n",
        "print(x)"
      ],
      "metadata": {
        "colab": {
          "base_uri": "https://localhost:8080/"
        },
        "id": "dxQL3hqDut0V",
        "outputId": "6c62470a-ee82-45da-b780-305c1d6e6413"
      },
      "execution_count": 14,
      "outputs": [
        {
          "output_type": "stream",
          "name": "stdout",
          "text": [
            "srh9caption9was kane williamson\n"
          ]
        }
      ]
    },
    {
      "cell_type": "code",
      "source": [
        "import re\n",
        "txt = \"srh caption was kane williamson\"\n",
        "x = re.search(r\"\\bs\\w+\",txt)\n",
        "print(x.string)"
      ],
      "metadata": {
        "colab": {
          "base_uri": "https://localhost:8080/"
        },
        "id": "EIeJWttkviFj",
        "outputId": "e79659fd-0694-416d-f07d-a302866630b5"
      },
      "execution_count": 15,
      "outputs": [
        {
          "output_type": "stream",
          "name": "stdout",
          "text": [
            "srh caption was kane williamson\n"
          ]
        }
      ]
    },
    {
      "cell_type": "code",
      "source": [
        "import re\n",
        "txt = \"srh caption was kane williamson\"\n",
        "x = re.search(r\"\\bw\\w+\",txt)\n",
        "print(x.span())"
      ],
      "metadata": {
        "colab": {
          "base_uri": "https://localhost:8080/"
        },
        "id": "2xK8rWhrw5PZ",
        "outputId": "abccb8e3-efac-42a3-8f88-3696ec72a08e"
      },
      "execution_count": 16,
      "outputs": [
        {
          "output_type": "stream",
          "name": "stdout",
          "text": [
            "(12, 15)\n"
          ]
        }
      ]
    },
    {
      "cell_type": "code",
      "source": [
        "import re\n",
        "txt = \"srh caption was kane williamson\"\n",
        "x = re.search(r\"\\bw\\w+\",txt)\n",
        "print(x.group())"
      ],
      "metadata": {
        "colab": {
          "base_uri": "https://localhost:8080/"
        },
        "id": "30GjI3S7xsFB",
        "outputId": "dc220117-2982-459b-9473-76b6d48069d4"
      },
      "execution_count": 17,
      "outputs": [
        {
          "output_type": "stream",
          "name": "stdout",
          "text": [
            "was\n"
          ]
        }
      ]
    }
  ]
}