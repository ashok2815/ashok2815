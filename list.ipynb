{
  "nbformat": 4,
  "nbformat_minor": 0,
  "metadata": {
    "colab": {
      "name": "list.ipynb",
      "provenance": [],
      "authorship_tag": "ABX9TyO90lIdHDAvCc3SmFn7QzsQ",
      "include_colab_link": true
    },
    "kernelspec": {
      "name": "python3",
      "display_name": "Python 3"
    },
    "language_info": {
      "name": "python"
    }
  },
  "cells": [
    {
      "cell_type": "markdown",
      "metadata": {
        "id": "view-in-github",
        "colab_type": "text"
      },
      "source": [
        "<a href=\"https://colab.research.google.com/github/ashok2815/ashok2815/blob/main/list.ipynb\" target=\"_parent\"><img src=\"https://colab.research.google.com/assets/colab-badge.svg\" alt=\"Open In Colab\"/></a>"
      ]
    },
    {
      "cell_type": "code",
      "execution_count": null,
      "metadata": {
        "colab": {
          "base_uri": "https://localhost:8080/"
        },
        "id": "JksUtL2GOpgD",
        "outputId": "f4f6234b-7b51-4e91-b41c-02761ef87589"
      },
      "outputs": [
        {
          "output_type": "stream",
          "name": "stdout",
          "text": [
            "['Apple', 'Guava', 'mango', 'pineapple', 'Orange']\n"
          ]
        }
      ],
      "source": [
        "fruit =[\"Apple\",\"Guava\",\"mango\",\"pineapple\",\"Orange\"]\n",
        "\n",
        "print (fruit)"
      ]
    },
    {
      "cell_type": "code",
      "source": [
        "fruit =[\"Apple\",\"Guava\",\"mango\",\"pineapple\",\"Orange\"]\n",
        "\n",
        "print (fruit[0])\n"
      ],
      "metadata": {
        "colab": {
          "base_uri": "https://localhost:8080/"
        },
        "id": "mJeSaidvOz6k",
        "outputId": "651e1fb1-ad98-4c6f-bc62-ee82379038ab"
      },
      "execution_count": null,
      "outputs": [
        {
          "output_type": "stream",
          "name": "stdout",
          "text": [
            "Apple\n"
          ]
        }
      ]
    },
    {
      "cell_type": "code",
      "source": [
        "fruit =[\"Apple\",\"Guava\",\"mango\",\"pineapple\",\"Orange\"]\n",
        "\n",
        "print (fruit[1])\n"
      ],
      "metadata": {
        "colab": {
          "base_uri": "https://localhost:8080/"
        },
        "id": "v-VxrfvOO4QE",
        "outputId": "c525a8cf-21c6-4a4e-bdc6-a57eee0ff900"
      },
      "execution_count": null,
      "outputs": [
        {
          "output_type": "stream",
          "name": "stdout",
          "text": [
            "Guava\n"
          ]
        }
      ]
    },
    {
      "cell_type": "code",
      "source": [
        "fruit =[\"Apple\",\"Guava\",\"mango\",\"pineapple\",\"Orange\"]\n",
        "\n",
        "print (fruit[2])"
      ],
      "metadata": {
        "colab": {
          "base_uri": "https://localhost:8080/"
        },
        "id": "I-I8f3ILO9Cc",
        "outputId": "736cf554-c0f2-4559-f619-baf15c4de699"
      },
      "execution_count": null,
      "outputs": [
        {
          "output_type": "stream",
          "name": "stdout",
          "text": [
            "mango\n"
          ]
        }
      ]
    },
    {
      "cell_type": "code",
      "source": [
        "fruit =[\"Apple\",\"Guava\",\"mango\",\"pineapple\",\"Orange\"]\n",
        "\n",
        "print (fruit[-1])"
      ],
      "metadata": {
        "colab": {
          "base_uri": "https://localhost:8080/"
        },
        "id": "csGSAXSZPCKU",
        "outputId": "aba04761-86ff-42cb-ad8d-7afad294681c"
      },
      "execution_count": null,
      "outputs": [
        {
          "output_type": "stream",
          "name": "stdout",
          "text": [
            "Orange\n"
          ]
        }
      ]
    },
    {
      "cell_type": "code",
      "source": [
        "fruit =[\"Apple\",\"Guava\",\"mango\",\"pineapple\",\"Orange\"]\n",
        "\n",
        "print (fruit[-2])\n"
      ],
      "metadata": {
        "colab": {
          "base_uri": "https://localhost:8080/"
        },
        "id": "BiS-sRGEPHEj",
        "outputId": "d3472226-edca-452b-cc6e-4a822844e7df"
      },
      "execution_count": null,
      "outputs": [
        {
          "output_type": "stream",
          "name": "stdout",
          "text": [
            "pineapple\n"
          ]
        }
      ]
    },
    {
      "cell_type": "code",
      "source": [
        "fruit =[\"Apple\",\"Guava\",\"mango\",\"pineapple\",\"Orange\"]\n",
        "\n",
        "print (fruit)\n",
        "print (fruit[0])\n",
        "print (fruit[1])\n",
        "print (fruit[-1])"
      ],
      "metadata": {
        "colab": {
          "base_uri": "https://localhost:8080/"
        },
        "id": "iqauwI2_PL6j",
        "outputId": "aa603293-81a0-47e0-ad97-47e28e2da092"
      },
      "execution_count": null,
      "outputs": [
        {
          "output_type": "stream",
          "name": "stdout",
          "text": [
            "['Apple', 'Guava', 'mango', 'pineapple', 'Orange']\n",
            "Apple\n",
            "Guava\n",
            "Orange\n"
          ]
        }
      ]
    },
    {
      "cell_type": "code",
      "source": [
        "fruit =[\"Apple\",\"Guava\",\"mango\",\"pineapple\",\"Orange\"]\n",
        "\n",
        "print (fruit)\n",
        "print (fruit[0:2])\n",
        "print (fruit[:2])\n",
        "print (fruit[1:2])\n"
      ],
      "metadata": {
        "colab": {
          "base_uri": "https://localhost:8080/"
        },
        "id": "Ivh5aJ4qPQmd",
        "outputId": "91ab827e-af38-46d6-9372-5b4eae64005f"
      },
      "execution_count": null,
      "outputs": [
        {
          "output_type": "stream",
          "name": "stdout",
          "text": [
            "['Apple', 'Guava', 'mango', 'pineapple', 'Orange']\n",
            "['Apple', 'Guava']\n",
            "['Apple', 'Guava']\n",
            "['Guava']\n"
          ]
        }
      ]
    },
    {
      "cell_type": "code",
      "source": [
        "fruit =[\"Apple\",\"Guava\",\"mango\",\"pineapple\",\"Orange\"]\n",
        "\n",
        "print (fruit)\n",
        "print (fruit[0:2])\n",
        "print (fruit[:2])\n",
        "print (fruit[1:2])\n",
        "print (fruit[1:])"
      ],
      "metadata": {
        "colab": {
          "base_uri": "https://localhost:8080/"
        },
        "id": "BaKi9kwFPWU7",
        "outputId": "ed10e4c1-8926-48a0-d264-ba83cdfcbe7b"
      },
      "execution_count": null,
      "outputs": [
        {
          "output_type": "stream",
          "name": "stdout",
          "text": [
            "['Apple', 'Guava', 'mango', 'pineapple', 'Orange']\n",
            "['Apple', 'Guava']\n",
            "['Apple', 'Guava']\n",
            "['Guava']\n",
            "['Guava', 'mango', 'pineapple', 'Orange']\n"
          ]
        }
      ]
    },
    {
      "cell_type": "code",
      "source": [
        "fruit =[\"Apple\",\"Guava\",\"mango\",\"pineapple\",\"Orange\"]\n",
        "\n",
        "print (fruit[-1])\n",
        "print (fruit[0::3])\n",
        "print (fruit[1::4])\n",
        "print (fruit[1:4])"
      ],
      "metadata": {
        "colab": {
          "base_uri": "https://localhost:8080/"
        },
        "id": "6rvc-G83DL3c",
        "outputId": "8fb88b02-db61-4c53-c50e-7e8a6fa1aca9"
      },
      "execution_count": null,
      "outputs": [
        {
          "output_type": "stream",
          "name": "stdout",
          "text": [
            "Orange\n",
            "['Apple', 'pineapple']\n",
            "['Guava']\n",
            "['Guava', 'mango', 'pineapple']\n"
          ]
        }
      ]
    },
    {
      "cell_type": "code",
      "source": [
        "fruit =[\"Apple\",\"Guava\",\"mango\",\"pineapple\",\"Orange\"]\n",
        "\n",
        "print (fruit)\n",
        "fruit.append(\"muskmelon\")\n",
        "print (fruit)\n"
      ],
      "metadata": {
        "colab": {
          "base_uri": "https://localhost:8080/"
        },
        "id": "FttqkdJqDazU",
        "outputId": "2a719060-c9dd-4b6a-bad7-b4a8dcefb7c2"
      },
      "execution_count": null,
      "outputs": [
        {
          "output_type": "stream",
          "name": "stdout",
          "text": [
            "['Apple', 'Guava', 'mango', 'pineapple', 'Orange']\n",
            "['Apple', 'Guava', 'mango', 'pineapple', 'Orange', 'muskmelon']\n"
          ]
        }
      ]
    },
    {
      "cell_type": "code",
      "source": [
        "fruit =[\"Apple\",\"Guava\",\"mango\",\"pineapple\",\"Orange\"]\n",
        "\n",
        "fruit.append(\"muskmelon\")\n",
        "print (fruit)\n",
        "print (fruit[-1])"
      ],
      "metadata": {
        "colab": {
          "base_uri": "https://localhost:8080/"
        },
        "id": "3aR9etNjDhP0",
        "outputId": "989c757b-1586-439b-8e00-e70a34a2614a"
      },
      "execution_count": null,
      "outputs": [
        {
          "output_type": "stream",
          "name": "stdout",
          "text": [
            "['Apple', 'Guava', 'mango', 'pineapple', 'Orange', 'muskmelon']\n",
            "muskmelon\n"
          ]
        }
      ]
    },
    {
      "cell_type": "code",
      "source": [
        "fruit =[\"Apple\",\"Guava\",\"mango\",\"pineapple\",\"Orange\"]\n",
        "\n",
        "print (fruit)\n",
        "fruit.insert(2,\"muskmelon\")\n",
        "print (fruit)"
      ],
      "metadata": {
        "id": "mvKyOrwfDmXT"
      },
      "execution_count": null,
      "outputs": []
    },
    {
      "cell_type": "code",
      "source": [
        "fruit =[\"Apple\",\"Guava\",\"mango\",\"pineapple\",\"Orange\"]\n",
        "\n",
        "\n",
        "print (fruit)\n",
        "fruit.pop(2)\n",
        "print (fruit)"
      ],
      "metadata": {
        "colab": {
          "base_uri": "https://localhost:8080/"
        },
        "id": "hUwYB0oUEHhk",
        "outputId": "93d67243-0be8-4eec-b297-c3b065b07a7f"
      },
      "execution_count": null,
      "outputs": [
        {
          "output_type": "stream",
          "name": "stdout",
          "text": [
            "['Apple', 'Guava', 'mango', 'pineapple', 'Orange']\n",
            "['Apple', 'Guava', 'pineapple', 'Orange']\n"
          ]
        }
      ]
    },
    {
      "cell_type": "code",
      "source": [
        "fruit =[\"Apple\",\"Guava\",\"mango\",\"pineapple\",\"Orange\"]\n",
        "\n",
        "\n",
        "print (fruit)\n",
        "fruit.clear()\n",
        "print (fruit)"
      ],
      "metadata": {
        "colab": {
          "base_uri": "https://localhost:8080/"
        },
        "id": "ZWYeQQpsEMn0",
        "outputId": "7b7f125a-d9fd-46a8-fead-946c8532e4c3"
      },
      "execution_count": null,
      "outputs": [
        {
          "output_type": "stream",
          "name": "stdout",
          "text": [
            "['Apple', 'Guava', 'mango', 'pineapple', 'Orange']\n",
            "[]\n"
          ]
        }
      ]
    },
    {
      "cell_type": "code",
      "source": [
        "fruit =[\"Apple\",\"Guava\",\"mango\",\"pineapple\",\"Orange\"]\n",
        "\n",
        "\n",
        "print (fruit)\n",
        "fruit.insert(2,\"muskmelon\")\n",
        "print (fruit)"
      ],
      "metadata": {
        "colab": {
          "base_uri": "https://localhost:8080/"
        },
        "id": "QM-dtwpMERYc",
        "outputId": "81d25fed-56b9-4872-f86b-e48bffb4e196"
      },
      "execution_count": null,
      "outputs": [
        {
          "output_type": "stream",
          "name": "stdout",
          "text": [
            "['Apple', 'Guava', 'mango', 'pineapple', 'Orange']\n",
            "['Apple', 'Guava', 'muskmelon', 'mango', 'pineapple', 'Orange']\n"
          ]
        }
      ]
    },
    {
      "cell_type": "code",
      "source": [
        "fruit =[\"Apple\",\"Guava\",\"mango\",\"pineapple\",\"Orange\"]\n",
        "\n",
        "print (fruit)\n",
        "fruit.pop(2,)\n",
        "print (fruit)"
      ],
      "metadata": {
        "colab": {
          "base_uri": "https://localhost:8080/"
        },
        "id": "PacFNoSQEVh0",
        "outputId": "891bb2e2-7fc5-4dba-ba14-c8525e038c1d"
      },
      "execution_count": null,
      "outputs": [
        {
          "output_type": "stream",
          "name": "stdout",
          "text": [
            "['Apple', 'Guava', 'mango', 'pineapple', 'Orange']\n",
            "['Apple', 'Guava', 'pineapple', 'Orange']\n"
          ]
        }
      ]
    },
    {
      "cell_type": "code",
      "source": [
        "fruit =[\"Apple\",\"Guava\",\"mango\",\"pineapple\",\"Orange\"]\n",
        "\n",
        "\n",
        "print (fruit)\n",
        "fruit.remove(\"mango\")\n",
        "print (fruit)"
      ],
      "metadata": {
        "colab": {
          "base_uri": "https://localhost:8080/"
        },
        "id": "X_t88bRhEanM",
        "outputId": "196e8e52-904b-4ebb-b18e-089d4dd20d88"
      },
      "execution_count": null,
      "outputs": [
        {
          "output_type": "stream",
          "name": "stdout",
          "text": [
            "['Apple', 'Guava', 'mango', 'pineapple', 'Orange']\n",
            "['Apple', 'Guava', 'pineapple', 'Orange']\n"
          ]
        }
      ]
    },
    {
      "cell_type": "code",
      "source": [
        "#number sort\n",
        "num=[\"1\",\"5\",\"7\",\"4\",\"3\"]\n",
        "\n",
        "print(num)\n",
        "num.sort()\n",
        "print(num)"
      ],
      "metadata": {
        "colab": {
          "base_uri": "https://localhost:8080/"
        },
        "id": "0W_LL4xfElZ0",
        "outputId": "8d0f3369-8394-43c7-fe7a-8bd1a4b315fd"
      },
      "execution_count": null,
      "outputs": [
        {
          "output_type": "stream",
          "name": "stdout",
          "text": [
            "['1', '5', '7', '4', '3']\n",
            "['1', '3', '4', '5', '7']\n"
          ]
        }
      ]
    },
    {
      "cell_type": "code",
      "source": [
        "#number sort\n",
        "num=[\"1\",\"5\",\"7\",\"4\",\"3\"]\n",
        "\n",
        "print(num)\n",
        "num.sort(reverse=True)\n",
        "print(num)"
      ],
      "metadata": {
        "colab": {
          "base_uri": "https://localhost:8080/"
        },
        "id": "T1JubmInEpe8",
        "outputId": "f9ee5280-59fc-4feb-ec12-3677c48d992c"
      },
      "execution_count": null,
      "outputs": [
        {
          "output_type": "stream",
          "name": "stdout",
          "text": [
            "['1', '5', '7', '4', '3']\n",
            "['7', '5', '4', '3', '1']\n"
          ]
        }
      ]
    },
    {
      "cell_type": "code",
      "source": [
        "#alpha\n",
        "fruit =[\"Apple\",\"Guava\",\"mango\",\"pineapple\",\"Orange\"]\n",
        "\n",
        "\n",
        "print (fruit)\n",
        "fruit.sort()\n",
        "print (fruit)"
      ],
      "metadata": {
        "colab": {
          "base_uri": "https://localhost:8080/"
        },
        "id": "fGXjqnImEtZr",
        "outputId": "7f19d078-1bf8-4c4c-b528-1f937ef8fc27"
      },
      "execution_count": null,
      "outputs": [
        {
          "output_type": "stream",
          "name": "stdout",
          "text": [
            "['Apple', 'Guava', 'mango', 'pineapple', 'Orange']\n",
            "['Apple', 'Guava', 'Orange', 'mango', 'pineapple']\n"
          ]
        }
      ]
    },
    {
      "cell_type": "code",
      "source": [
        "fruit =[\"Apple\",\"Guava\",\"mango\",\"pineapple\",\"Orange\"]\n",
        "\n",
        "\n",
        "print (fruit)\n",
        "fruit.reverse()\n",
        "print (fruit)"
      ],
      "metadata": {
        "colab": {
          "base_uri": "https://localhost:8080/"
        },
        "id": "KW-7-xdCExLl",
        "outputId": "afc323e8-d2ab-4bf2-8228-a199bf30b65c"
      },
      "execution_count": null,
      "outputs": [
        {
          "output_type": "stream",
          "name": "stdout",
          "text": [
            "['Apple', 'Guava', 'mango', 'pineapple', 'Orange']\n",
            "['Orange', 'pineapple', 'mango', 'Guava', 'Apple']\n"
          ]
        }
      ]
    },
    {
      "cell_type": "code",
      "source": [
        "fruit =[\"Apple\",\"Guava\",\"mango\",\"pineapple\",\"Orange\"]\n",
        "\n",
        "\n",
        "print (fruit)\n",
        "fruit.copy()\n",
        "print (fruit)"
      ],
      "metadata": {
        "colab": {
          "base_uri": "https://localhost:8080/"
        },
        "id": "cgsWjZw5E12s",
        "outputId": "0000bde6-13d6-48ee-d7f1-f75fa69d2969"
      },
      "execution_count": null,
      "outputs": [
        {
          "output_type": "stream",
          "name": "stdout",
          "text": [
            "['Apple', 'Guava', 'mango', 'pineapple', 'Orange']\n",
            "['Apple', 'Guava', 'mango', 'pineapple', 'Orange']\n"
          ]
        }
      ]
    },
    {
      "cell_type": "code",
      "source": [
        "fruit =[\"Apple\",\"Guava\",\"mango\",\"pineapple\",\"Orange\"]\n",
        "\n",
        "fruit[1] = \"blackcurrant\"\n",
        "print(fruit)\n"
      ],
      "metadata": {
        "colab": {
          "base_uri": "https://localhost:8080/"
        },
        "id": "Qy4Nt3g6E8ec",
        "outputId": "1b2cdf7a-4960-4822-b230-08e5df0ba9fb"
      },
      "execution_count": null,
      "outputs": [
        {
          "output_type": "stream",
          "name": "stdout",
          "text": [
            "['Apple', 'blackcurrant', 'mango', 'pineapple', 'Orange']\n"
          ]
        }
      ]
    },
    {
      "cell_type": "code",
      "source": [
        "fruit =[\"Apple\",\"Guava\",\"mango\",\"pineapple\",\"Orange\"]\n",
        "\n",
        "x=fruit.count(\"mango\")\n",
        "print (x)"
      ],
      "metadata": {
        "colab": {
          "base_uri": "https://localhost:8080/"
        },
        "id": "Ch6w6R_TFBA0",
        "outputId": "e4a90ad6-c6c2-4d8c-a580-fa6f85a8abf8"
      },
      "execution_count": null,
      "outputs": [
        {
          "output_type": "stream",
          "name": "stdout",
          "text": [
            "1\n"
          ]
        }
      ]
    },
    {
      "cell_type": "code",
      "source": [
        "fruit =[\"Apple\",\"Guava\",\"mango\",\"pineapple\",\"Orange\"]\n",
        "cars=[\"bmw\",\"ford\",\"volvo\"]\n",
        "\n",
        "fruit.extend(cars)\n",
        "print(fruit)"
      ],
      "metadata": {
        "colab": {
          "base_uri": "https://localhost:8080/"
        },
        "id": "VIyPnjhaFEnM",
        "outputId": "bae6fad8-93fa-4e4d-b6a5-96df9d6a6f00"
      },
      "execution_count": null,
      "outputs": [
        {
          "output_type": "stream",
          "name": "stdout",
          "text": [
            "['Apple', 'Guava', 'mango', 'pineapple', 'Orange', 'bmw', 'ford', 'volvo']\n"
          ]
        }
      ]
    },
    {
      "cell_type": "code",
      "source": [
        "fruit =[\"Apple\",\"Guava\",\"mango\",\"pineapple\",\"Orange\"]\n",
        "\n",
        "x = fruit.index(\"Apple\")\n",
        "print(x)"
      ],
      "metadata": {
        "colab": {
          "base_uri": "https://localhost:8080/"
        },
        "id": "2LyqfRi7FH4j",
        "outputId": "29f87f7f-0298-4f06-8362-0464aad8ecdf"
      },
      "execution_count": null,
      "outputs": [
        {
          "output_type": "stream",
          "name": "stdout",
          "text": [
            "0\n"
          ]
        }
      ]
    },
    {
      "cell_type": "code",
      "source": [
        "fruit =[\"Apple\",\"Guava\",\"mango\",\"pineapple\",\"Orange\"]\n",
        "print(len(fruit))"
      ],
      "metadata": {
        "colab": {
          "base_uri": "https://localhost:8080/"
        },
        "id": "aCmC3_DUFK8M",
        "outputId": "ea594a0d-7c7e-4f35-d0c9-c27b6a242028"
      },
      "execution_count": null,
      "outputs": [
        {
          "output_type": "stream",
          "name": "stdout",
          "text": [
            "5\n"
          ]
        }
      ]
    },
    {
      "cell_type": "code",
      "source": [
        "fruit = [\"Apple\",\"Guava\",\"mango\",\"pineapple\",\"Orange\"]\n",
        "num = [1, 5, 7, 9, 3]\n",
        "list = [True, False, False]\n",
        "\n",
        "print(fruit)\n",
        "print(num)\n",
        "print(list)"
      ],
      "metadata": {
        "colab": {
          "base_uri": "https://localhost:8080/"
        },
        "id": "Tbj3KcZ8FQOE",
        "outputId": "db92cc74-e8ef-473d-a354-d922d2e13e4d"
      },
      "execution_count": null,
      "outputs": [
        {
          "output_type": "stream",
          "name": "stdout",
          "text": [
            "['Apple', 'Guava', 'mango', 'pineapple', 'Orange']\n",
            "[1, 5, 7, 9, 3]\n",
            "[True, False, False]\n"
          ]
        }
      ]
    },
    {
      "cell_type": "code",
      "source": [
        "list = [\"abc\", 34, True, 43, \"cba\"]\n",
        "\n",
        "print(list)"
      ],
      "metadata": {
        "colab": {
          "base_uri": "https://localhost:8080/"
        },
        "id": "ZA5NddIbFUtk",
        "outputId": "9b57adb9-80e0-43b5-f955-f7924b68b8fc"
      },
      "execution_count": null,
      "outputs": [
        {
          "output_type": "stream",
          "name": "stdout",
          "text": [
            "['abc', 34, True, 43, 'cba']\n"
          ]
        }
      ]
    },
    {
      "cell_type": "code",
      "source": [
        "fruit =[\"Apple\",\"Guava\",\"mango\",\"pineapple\",\"Orange\"]\n",
        "\n",
        "print(type(fruit))"
      ],
      "metadata": {
        "colab": {
          "base_uri": "https://localhost:8080/"
        },
        "id": "1dhnDZBEFYHT",
        "outputId": "81b5f246-ede2-4e82-e5d7-e62ea349499e"
      },
      "execution_count": null,
      "outputs": [
        {
          "output_type": "stream",
          "name": "stdout",
          "text": [
            "<class 'list'>\n"
          ]
        }
      ]
    }
  ]
}