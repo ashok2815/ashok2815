{
  "nbformat": 4,
  "nbformat_minor": 0,
  "metadata": {
    "colab": {
      "name": "module 2.ipynb",
      "provenance": [],
      "authorship_tag": "ABX9TyMP7cwi29QYYLsQVQtvQzkV",
      "include_colab_link": true
    },
    "kernelspec": {
      "name": "python3",
      "display_name": "Python 3"
    },
    "language_info": {
      "name": "python"
    }
  },
  "cells": [
    {
      "cell_type": "markdown",
      "metadata": {
        "id": "view-in-github",
        "colab_type": "text"
      },
      "source": [
        "<a href=\"https://colab.research.google.com/github/ashok2815/ashok2815/blob/main/module_2.ipynb\" target=\"_parent\"><img src=\"https://colab.research.google.com/assets/colab-badge.svg\" alt=\"Open In Colab\"/></a>"
      ]
    },
    {
      "cell_type": "code",
      "execution_count": 23,
      "metadata": {
        "id": "-7Z67c-wfKz6"
      },
      "outputs": [],
      "source": [
        "def nCr(n, r):\n",
        "    return (fact(n) /  (fact(r)\n",
        "                 *fact(n -r)))\n",
        "def fact(n):\n",
        "   res = 1\n",
        "   for i in range(2, n+1):\n",
        "     res = res * i\n",
        "   return res \n",
        "   n=5\n",
        "   r=3\n",
        "   print(int(nCr(n, r)))"
      ]
    },
    {
      "cell_type": "code",
      "source": [
        "def Diff(li1, li2):\n",
        "  li_dif = [i for i in li1 + li2 if i not in li1 or i not in li2]\n",
        "  return li_dif\n",
        "li1 = [26, 15, 20, 25, 30, 35, 40]\n",
        "li2 = [25, 40, 35]\n",
        "li3 = Diff(li1, li2)\n",
        "print(li3)\n"
      ],
      "metadata": {
        "id": "Pg0_uuhikBF3",
        "colab": {
          "base_uri": "https://localhost:8080/"
        },
        "outputId": "311977c1-f243-477d-ef20-f6e541482f6e"
      },
      "execution_count": 25,
      "outputs": [
        {
          "output_type": "stream",
          "name": "stdout",
          "text": [
            "[26, 15, 20, 30]\n"
          ]
        }
      ]
    },
    {
      "cell_type": "code",
      "source": [
        ""
      ],
      "metadata": {
        "id": "kZFTIAyjmr8-"
      },
      "execution_count": null,
      "outputs": []
    }
  ]
}