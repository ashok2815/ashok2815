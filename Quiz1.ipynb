{
  "nbformat": 4,
  "nbformat_minor": 0,
  "metadata": {
    "colab": {
      "name": "Quiz1.ipynb",
      "provenance": [],
      "authorship_tag": "ABX9TyOwSUgwYnWEjhlS0yV7NO6X",
      "include_colab_link": true
    },
    "kernelspec": {
      "name": "python3",
      "display_name": "Python 3"
    },
    "language_info": {
      "name": "python"
    }
  },
  "cells": [
    {
      "cell_type": "markdown",
      "metadata": {
        "id": "view-in-github",
        "colab_type": "text"
      },
      "source": [
        "<a href=\"https://colab.research.google.com/github/ashok2815/ashok2815/blob/main/Quiz1.ipynb\" target=\"_parent\"><img src=\"https://colab.research.google.com/assets/colab-badge.svg\" alt=\"Open In Colab\"/></a>"
      ]
    },
    {
      "cell_type": "code",
      "execution_count": null,
      "metadata": {
        "colab": {
          "base_uri": "https://localhost:8080/"
        },
        "id": "l9gMHQTRNvwO",
        "outputId": "3db46ff9-6a95-48ce-fe4a-1c9622f902b7"
      },
      "outputs": [
        {
          "output_type": "stream",
          "name": "stdout",
          "text": [
            "5\n"
          ]
        }
      ],
      "source": [
        "# largest amoung 3 numbers \n",
        "a=5\n",
        "b=3\n",
        "c=2\n",
        "if  a>b and a>c :\n",
        "  print(a)\n",
        "elif  b>a and b>c :\n",
        "  print(b)\n",
        "else : \n",
        "  print (c)"
      ]
    },
    {
      "cell_type": "code",
      "source": [
        "#Find out the square root of the number\n",
        "number = int(input())\n",
        "sqrt = number ** 0.5\n",
        "print(sqrt)"
      ],
      "metadata": {
        "colab": {
          "base_uri": "https://localhost:8080/"
        },
        "id": "a9UV7QgnN8YV",
        "outputId": "44289b89-b296-4fd1-e736-f49aa2257364"
      },
      "execution_count": null,
      "outputs": [
        {
          "output_type": "stream",
          "name": "stdout",
          "text": [
            "5\n",
            "2.23606797749979\n"
          ]
        }
      ]
    },
    {
      "cell_type": "code",
      "source": [
        "#Add Black color to the given list in the 4th place.\n",
        "\n",
        " #Rainbow = ['Red', 'Orange', 'Yellow', 'Green'] \n",
        "\n",
        "Rainbow =  ['Red', 'Orange', 'Yellow', 'Green']\n",
        "Rainbow.insert (3,\"Black\")\n",
        "print(Rainbow)\n"
      ],
      "metadata": {
        "colab": {
          "base_uri": "https://localhost:8080/"
        },
        "id": "nGDyoe5QODPb",
        "outputId": "a8e73ba6-3ba7-45ee-9617-1526d922978b"
      },
      "execution_count": null,
      "outputs": [
        {
          "output_type": "stream",
          "name": "stdout",
          "text": [
            "['Red', 'Orange', 'Yellow', 'Black', 'Green']\n"
          ]
        }
      ]
    },
    {
      "cell_type": "code",
      "source": [
        "#Write a program of swapping of two numbers \n",
        "\n",
        "a=2\n",
        "b=3\n",
        "a=a+b\n",
        "b=a-b\n",
        "a=a-b\n",
        "print(\"Result =\",a,b)\n"
      ],
      "metadata": {
        "colab": {
          "base_uri": "https://localhost:8080/"
        },
        "id": "nNCNuT4MOLgE",
        "outputId": "15e2afb1-43e0-4191-e064-3c375d9d1f4b"
      },
      "execution_count": null,
      "outputs": [
        {
          "output_type": "stream",
          "name": "stdout",
          "text": [
            "Result = 3 2\n"
          ]
        }
      ]
    }
  ]
}