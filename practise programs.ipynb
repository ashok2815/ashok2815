{
  "nbformat": 4,
  "nbformat_minor": 0,
  "metadata": {
    "colab": {
      "name": "Untitled2.ipynb",
      "provenance": [],
      "authorship_tag": "ABX9TyOIIc+mhdshdDVaOXA1cfBZ",
      "include_colab_link": true
    },
    "kernelspec": {
      "name": "python3",
      "display_name": "Python 3"
    },
    "language_info": {
      "name": "python"
    }
  },
  "cells": [
    {
      "cell_type": "markdown",
      "metadata": {
        "id": "view-in-github",
        "colab_type": "text"
      },
      "source": [
        "<a href=\"https://colab.research.google.com/github/ashok2815/ashok2815/blob/main/practise%20programs.ipynb\" target=\"_parent\"><img src=\"https://colab.research.google.com/assets/colab-badge.svg\" alt=\"Open In Colab\"/></a>"
      ]
    },
    {
      "cell_type": "markdown",
      "source": [
        "write a python program to find power of number with recursion and without recursion(input n=2 , p=3)write a python program to find power of number with recursion and without recursion(input n=2 , p=3)"
      ],
      "metadata": {
        "id": "Tn5j4NWOnLF0"
      }
    },
    {
      "cell_type": "code",
      "source": [
        "import math\n",
        "a=int(input(\"n: \"))\n",
        "b=int(input(\"p: \"))\n",
        "\n",
        "def power2():\n",
        "  fin=pow(a,b) \n",
        "  print(fin)\n",
        "power2()\n"
      ],
      "metadata": {
        "colab": {
          "base_uri": "https://localhost:8080/"
        },
        "id": "3Tmdul90nOPT",
        "outputId": "04a5a94b-58b1-4f74-a89c-45489ef026e8"
      },
      "execution_count": 8,
      "outputs": [
        {
          "output_type": "stream",
          "name": "stdout",
          "text": [
            "n: 2\n",
            "p: 3\n",
            "8\n"
          ]
        }
      ]
    },
    {
      "cell_type": "markdown",
      "source": [
        "write a program to sort tuple by total digits (input: list=[(3,4,6,723),(1,2),(134,234,34)])\n",
        "      output:[(1,2)(3,4,6,723)(34,134,234)]"
      ],
      "metadata": {
        "id": "ByLkZU6-pe-G"
      }
    },
    {
      "cell_type": "code",
      "source": [
        "list1 =[(3,4,6,723),(1,2),(134,234,34)]\n",
        "final = []\n",
        "a = tuple(sorted(list1[0]))\n",
        "b = tuple(sorted(list1[1]))\n",
        "c = tuple(sorted(list1[2]))\n",
        "final = [a,b,c]\n",
        "d = sorted(final)\n",
        "print(d)"
      ],
      "metadata": {
        "colab": {
          "base_uri": "https://localhost:8080/"
        },
        "id": "lwhvnt82pjCV",
        "outputId": "d81bf199-8282-4af6-fd38-610607621409"
      },
      "execution_count": 9,
      "outputs": [
        {
          "output_type": "stream",
          "name": "stdout",
          "text": [
            "[(1, 2), (3, 4, 6, 723), (34, 134, 234)]\n"
          ]
        }
      ]
    },
    {
      "cell_type": "markdown",
      "source": [
        "take five subjects from the user and display the grade of the student,if average is 90-100(o),80-89(a+),70-79(a)..."
      ],
      "metadata": {
        "id": "cwBrjwbqtNTR"
      }
    },
    {
      "cell_type": "code",
      "source": [
        "sub1 = int(input(\"enter marks: \"))\n",
        "sub2 = int(input(\"enter marks: \"))\n",
        "sub3 = int(input(\"enter marks: \"))\n",
        "sub4 = int(input(\"enter marks: \"))\n",
        "sub5 = int(input(\"enter marks: \"))\n",
        "avg = (sub1+sub2+sub3+sub4+sub5)/5\n",
        "print (avg)\n",
        "if avg >= 90:\n",
        "  print(\"o grade\")\n",
        "elif (90> avg >= 80):\n",
        "  print(\"a+ grade\")\n",
        "elif (80 > avg >= 70):\n",
        "  print(\"a grade\")\n",
        "elif (70 > avg >= 60):\n",
        "  print(\"b grade\")\n",
        "else:\n",
        "  print(\"fail\")\n"
      ],
      "metadata": {
        "colab": {
          "base_uri": "https://localhost:8080/"
        },
        "id": "zQaN0WrutTnH",
        "outputId": "3d7ef6cd-2c80-4fff-c674-94d1c493c0d1"
      },
      "execution_count": 11,
      "outputs": [
        {
          "output_type": "stream",
          "name": "stdout",
          "text": [
            "enter marks: 64\n",
            "enter marks: 37\n",
            "enter marks: 94\n",
            "enter marks: 86\n",
            "enter marks: 75\n",
            "71.2\n",
            "a grade\n"
          ]
        }
      ]
    },
    {
      "cell_type": "markdown",
      "source": [
        "write a python program that prints 1 if all three given numbers are ascending order."
      ],
      "metadata": {
        "id": "3gVoNl43yBKp"
      }
    },
    {
      "cell_type": "code",
      "source": [
        "a = int(input(\"enter num: \"))\n",
        "b = int(input(\"enter num: \"))\n",
        "c = int(input(\"enter num: \"))\n",
        "list1 = [a,b,c]\n",
        "temp = sorted(list1)\n",
        "if temp == list1:\n",
        "   print(\"1\")\n",
        "else:\n",
        "   print(\"0\")"
      ],
      "metadata": {
        "colab": {
          "base_uri": "https://localhost:8080/"
        },
        "id": "YEX4JE_yyB0n",
        "outputId": "a388b661-b733-4cc5-8a04-7f933b156680"
      },
      "execution_count": 12,
      "outputs": [
        {
          "output_type": "stream",
          "name": "stdout",
          "text": [
            "enter num: 5\n",
            "enter num: 9\n",
            "enter num: 4\n",
            "0\n"
          ]
        }
      ]
    },
    {
      "cell_type": "markdown",
      "source": [
        "check a given number is perfect number are not"
      ],
      "metadata": {
        "id": "fM5h3kU5yU2A"
      }
    },
    {
      "cell_type": "code",
      "source": [
        "n = int(input(\"Enter any number: \"))\n",
        "sum1 = 0\n",
        "for i in range(1, n):\n",
        "    if(n % i == 0):\n",
        "      sum1 = sum1 + i\n",
        "if (sum1 == n):\n",
        "  print(\"The number is a Perfect number\")\n",
        "else:\n",
        "  print(\"The number is not a Perfect number\")"
      ],
      "metadata": {
        "colab": {
          "base_uri": "https://localhost:8080/"
        },
        "id": "wW6gJD-eyVgX",
        "outputId": "395bada6-9cea-43d3-dc68-d02d181de7b6"
      },
      "execution_count": 14,
      "outputs": [
        {
          "output_type": "stream",
          "name": "stdout",
          "text": [
            "Enter any number: 6\n",
            "The number is a Perfect number\n"
          ]
        }
      ]
    },
    {
      "cell_type": "markdown",
      "source": [
        "check a given string is a pallindrome or not"
      ],
      "metadata": {
        "id": "nLCmvsXJyvBg"
      }
    },
    {
      "cell_type": "code",
      "source": [
        "num=int(input(\"Enter a number:\"))\n",
        "temp=num\n",
        "rev=0\n",
        "while(num>0):\n",
        "      \n",
        "      dig=num%10\n",
        "rev=rev*10+dig\n",
        "num=num//10\n",
        "if(temp==rev):\n",
        "     print(\"The number is palindrome\")\n",
        "else:\n",
        "     print(\"Not a palindrome\")"
      ],
      "metadata": {
        "colab": {
          "base_uri": "https://localhost:8080/"
        },
        "id": "9jVOzzlSyvzX",
        "outputId": "c8101338-9553-49c1-cd99-32c5ff5f29da"
      },
      "execution_count": null,
      "outputs": [
        {
          "name": "stdout",
          "output_type": "stream",
          "text": [
            "Enter a number:656\n"
          ]
        }
      ]
    },
    {
      "cell_type": "markdown",
      "source": [
        "find the gcd of two numbers with and without recursion(5,3=1)"
      ],
      "metadata": {
        "id": "tsxz5IIi1pip"
      }
    },
    {
      "cell_type": "code",
      "source": [
        ""
      ],
      "metadata": {
        "id": "Xh9ZQG5k1qan"
      },
      "execution_count": null,
      "outputs": []
    }
  ]
}